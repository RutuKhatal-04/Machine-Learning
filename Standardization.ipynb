{
  "nbformat": 4,
  "nbformat_minor": 0,
  "metadata": {
    "colab": {
      "provenance": []
    },
    "kernelspec": {
      "name": "python3",
      "display_name": "Python 3"
    },
    "language_info": {
      "name": "python"
    }
  },
  "cells": [
    {
      "cell_type": "code",
      "execution_count": null,
      "metadata": {
        "colab": {
          "base_uri": "https://localhost:8080/"
        },
        "id": "jCj0kEUztEJF",
        "outputId": "2c5744d4-6376-4889-e7b6-d61fed5be89f"
      },
      "outputs": [
        {
          "output_type": "stream",
          "name": "stdout",
          "text": [
            "StandardScaler()\n",
            "[0.5 0.5]\n",
            "[[-1. -1.]\n",
            " [-1. -1.]\n",
            " [ 1.  1.]\n",
            " [ 1.  1.]]\n",
            "[[3. 3.]]\n"
          ]
        }
      ],
      "source": [
        "from sklearn.preprocessing import StandardScaler\n",
        "data = [[0, 0], [0, 0], [1, 1], [1, 1]]\n",
        "scaler = StandardScaler()\n",
        "print(scaler.fit(data))\n",
        "print(scaler.mean_)\n",
        "print(scaler.transform(data))\n",
        "print(scaler.transform([[2, 2]]))"
      ]
    },
    {
      "cell_type": "code",
      "source": [],
      "metadata": {
        "id": "G17XaKZ6tXYU"
      },
      "execution_count": null,
      "outputs": []
    }
  ]
}