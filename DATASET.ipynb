{
  "nbformat": 4,
  "nbformat_minor": 0,
  "metadata": {
    "colab": {
      "provenance": []
    },
    "kernelspec": {
      "name": "python3",
      "display_name": "Python 3"
    },
    "language_info": {
      "name": "python"
    }
  },
  "cells": [
    {
      "cell_type": "code",
      "execution_count": null,
      "metadata": {
        "id": "i6ymSMxAJ8gn",
        "colab": {
          "base_uri": "https://localhost:8080/"
        },
        "outputId": "0e79b4a4-a127-4821-d618-a43bd26f2710"
      },
      "outputs": [
        {
          "output_type": "stream",
          "name": "stdout",
          "text": [
            "      CRIM    ZN  INDUS  CHAS    NOX     RM   AGE     DIS  RAD    TAX  \\\n",
            "0  0.00632  18.0   2.31     0  0.538  6.575  65.2  4.0900    1  296.0   \n",
            "1  0.02731   0.0   7.07     0  0.469  6.421  78.9  4.9671    2  242.0   \n",
            "2  0.02729   0.0   7.07     0  0.469  7.185  61.1  4.9671    2  242.0   \n",
            "3  0.03237   0.0   2.18     0  0.458  6.998  45.8  6.0622    3  222.0   \n",
            "4  0.06905   0.0   2.18     0  0.458  7.147  54.2  6.0622    3  222.0   \n",
            "\n",
            "   PTRATIO       B  LSTAT  MEDV  \n",
            "0     15.3  396.90   4.98  24.0  \n",
            "1     17.8  396.90   9.14  21.6  \n",
            "2     17.8  392.83   4.03  34.7  \n",
            "3     18.7  394.63   2.94  33.4  \n",
            "4     18.7  396.90   5.33  36.2  \n"
          ]
        }
      ],
      "source": [
        "import pandas as pd\n",
        "import matplotlib.pyplot as plt\n",
        "import numpy as np\n",
        "from sklearn.model_selection import train_test_split\n",
        "from sklearn.linear_model import LinearRegression\n",
        "from sklearn.metrics import mean_squared_error\n",
        "from sklearn.datasets import load_iris\n",
        "from sklearn.decomposition import PCA, IncrementalPCA\n",
        "from sklearn.preprocessing import StandardScaler # Import StandardScaler\n",
        "\n",
        "# Define the column names based on the description\n",
        "column_names = ['CRIM', 'ZN', 'INDUS', 'CHAS', 'NOX', 'RM', 'AGE',\n",
        "                'DIS', 'RAD', 'TAX', 'PTRATIO', 'B', 'LSTAT', 'MEDV']\n",
        "\n",
        "data = pd.read_csv(\"/content/housing.csv\", names=column_names)\n",
        "\n",
        "print(data.head())\n",
        "\n"
      ]
    },
    {
      "cell_type": "code",
      "source": [
        "X = data[['CRIM', 'ZN', 'INDUS', 'CHAS', 'NOX', 'RM', 'AGE',\n",
        "          'DIS', 'RAD', 'TAX', 'PTRATIO', 'B', 'LSTAT']]\n",
        "y = data['MEDV']\n",
        "\n",
        "\n",
        "scaler = StandardScaler()\n",
        "X_scaled = scaler.fit_transform(X)\n",
        "\n",
        "\n",
        "pca = PCA(n_components=1)\n",
        "X_pca = pca.fit_transform(X_scaled)\n",
        "\n",
        "print(f'Explained Variance Ratio (PCA): {sum(pca.explained_variance_ratio_):.2f}')\n",
        "\n",
        "X_train, X_test, y_train, y_test = train_test_split(X_pca, y, test_size=0.2, random_state=42)\n",
        "\n",
        "\n",
        "model = LinearRegression()\n",
        "model.fit(X_train, y_train)\n",
        "\n",
        "\n",
        "y_pred = model.predict(X_test)\n",
        "\n",
        "print(y_pred)\n",
        "\n"
      ],
      "metadata": {
        "colab": {
          "base_uri": "https://localhost:8080/"
        },
        "id": "cqgC6uOmLhMk",
        "outputId": "83261c5a-a9c5-471f-d6eb-5516b533cbbf"
      },
      "execution_count": null,
      "outputs": [
        {
          "output_type": "stream",
          "name": "stdout",
          "text": [
            "Explained Variance Ratio (PCA): 0.47\n",
            "[24.88273223 28.61143581 17.09271779 27.20371492 16.27954411 23.69307229\n",
            " 22.86799311 18.21646666 18.29551743 21.94759195 22.25252429 25.12266183\n",
            "  8.7192493  24.55734675 24.24294731 18.56737332 20.35096042 13.02526043\n",
            " 32.49424604 15.6920025  27.90466456 28.16645495 21.58824961 23.39575729\n",
            " 15.50409995 16.09763402 24.96089244 14.17839115 23.08157806 22.19253729\n",
            " 23.68199688 25.66392182 16.1386438  15.88981538 16.33164102 17.95031142\n",
            " 27.39819065 25.72929981 24.30845186 27.07874758 21.15701475 26.92397255\n",
            " 32.63647516 26.64665201 25.83020263 15.66221713 21.81433004 27.29538567\n",
            " 17.7307772  27.45209818 25.50813849 29.5086676  22.38555827 23.72303224\n",
            " 27.92538117 19.51395884 15.79797319 30.33679931 26.81834009 25.62741011\n",
            " 27.95604679 32.83870907 26.55124968 23.47673041 30.86671791 21.92897687\n",
            " 15.9287868  28.06029046 30.5596784  14.21534706 26.39821035 19.48098222\n",
            " 13.65184965 30.87837188 24.58549086 11.91796829 22.24423679 32.41093685\n",
            " 15.20130623 15.89626985 27.34668877 14.75959535 31.60233259 14.05213285\n",
            " 23.03218911 25.01847714 16.09774951 26.12467256 26.40361331 19.32055802\n",
            " 25.77625753 12.10249314 19.59481746 26.58106618 15.28858537 19.73380857\n",
            " 16.55072973 11.14244681 13.52604183 14.024174   26.21542862 24.9505374 ]\n"
          ]
        }
      ]
    },
    {
      "cell_type": "code",
      "source": [],
      "metadata": {
        "id": "2oLNdmviNaC_"
      },
      "execution_count": null,
      "outputs": []
    }
  ]
}