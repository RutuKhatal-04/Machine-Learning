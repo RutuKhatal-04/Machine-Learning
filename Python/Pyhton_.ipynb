{
  "nbformat": 4,
  "nbformat_minor": 0,
  "metadata": {
    "colab": {
      "provenance": [],
      "authorship_tag": "ABX9TyNG5R5fg/+rYWAz2iPznrX7",
      "include_colab_link": true
    },
    "kernelspec": {
      "name": "python3",
      "display_name": "Python 3"
    },
    "language_info": {
      "name": "python"
    }
  },
  "cells": [
    {
      "cell_type": "markdown",
      "metadata": {
        "id": "view-in-github",
        "colab_type": "text"
      },
      "source": [
        "<a href=\"https://colab.research.google.com/github/RutuKhatal-04/Machine-Learning/blob/main/Pyhton_.ipynb\" target=\"_parent\"><img src=\"https://colab.research.google.com/assets/colab-badge.svg\" alt=\"Open In Colab\"/></a>"
      ]
    },
    {
      "cell_type": "code",
      "execution_count": null,
      "metadata": {
        "colab": {
          "base_uri": "https://localhost:8080/"
        },
        "id": "wTL8N_KI0-kc",
        "outputId": "336cdad1-2371-446a-d57e-8e6bc78d006a"
      },
      "outputs": [
        {
          "output_type": "stream",
          "name": "stdout",
          "text": [
            "Enter namedg\n",
            "dg\n"
          ]
        }
      ],
      "source": [
        "\n",
        "name=input(\"Enter name\")\n",
        "print(name)"
      ]
    },
    {
      "cell_type": "code",
      "source": [
        "phrase = \"Hello World\"\n",
        "pos=-1\n",
        "for i in phrase:\n",
        "  pos+=1\n",
        "  if pos%2==0:\n",
        "    print(i,pos)\n"
      ],
      "metadata": {
        "colab": {
          "base_uri": "https://localhost:8080/"
        },
        "id": "2AJClEzP1FcO",
        "outputId": "b6783fb0-e2db-47a3-85c9-e122a4426ff5"
      },
      "execution_count": null,
      "outputs": [
        {
          "output_type": "stream",
          "name": "stdout",
          "text": [
            "H 0\n",
            "l 2\n",
            "o 4\n",
            "W 6\n",
            "r 8\n",
            "d 10\n"
          ]
        }
      ]
    },
    {
      "cell_type": "code",
      "source": [
        "#Same using step size\n",
        "phrase = \"Hello World\"\n",
        "pos=0\n",
        "for i in phrase[::2]:\n",
        " print(i,pos)\n",
        " pos+=2"
      ],
      "metadata": {
        "colab": {
          "base_uri": "https://localhost:8080/"
        },
        "id": "xam4Opy02xJN",
        "outputId": "381475b5-6fc2-4e94-a5be-242627286aca"
      },
      "execution_count": null,
      "outputs": [
        {
          "output_type": "stream",
          "name": "stdout",
          "text": [
            "H 0\n",
            "l 2\n",
            "o 4\n",
            "W 6\n",
            "r 8\n",
            "d 10\n"
          ]
        }
      ]
    },
    {
      "cell_type": "code",
      "source": [
        "#Split Function\n",
        "phrase=\"Heloo World\"\n",
        "print(phrase.split())\n"
      ],
      "metadata": {
        "colab": {
          "base_uri": "https://localhost:8080/"
        },
        "id": "gJziiK894d3t",
        "outputId": "c71c6e29-3a10-4b37-d604-b87027b1c4ef"
      },
      "execution_count": null,
      "outputs": [
        {
          "output_type": "stream",
          "name": "stdout",
          "text": [
            "['Heloo', 'World']\n"
          ]
        }
      ]
    },
    {
      "cell_type": "code",
      "source": [
        "#Split Function\n",
        "phrase=\"Heloo World\"\n",
        "pos=-1\n",
        "for i in phrase.split():\n",
        "  pos+=1\n",
        "  print(i,pos)\n"
      ],
      "metadata": {
        "colab": {
          "base_uri": "https://localhost:8080/"
        },
        "id": "1IiS5U5Z5B_H",
        "outputId": "9d6beaef-6f2d-4194-ab9a-38150087e449"
      },
      "execution_count": null,
      "outputs": [
        {
          "output_type": "stream",
          "name": "stdout",
          "text": [
            "Heloo 0\n",
            "World 1\n"
          ]
        }
      ]
    },
    {
      "cell_type": "code",
      "source": [
        "phrase=\"Heloo World\"\n",
        "print(len(phrase))\n",
        "for i in range(len(phrase)):\n",
        "  print(phrase[i],i)"
      ],
      "metadata": {
        "colab": {
          "base_uri": "https://localhost:8080/"
        },
        "id": "XVf_RGDb5m6z",
        "outputId": "6f915f14-4575-4f32-a461-f4af13c6289f"
      },
      "execution_count": null,
      "outputs": [
        {
          "output_type": "stream",
          "name": "stdout",
          "text": [
            "11\n",
            "H 0\n",
            "e 1\n",
            "l 2\n",
            "o 3\n",
            "o 4\n",
            "  5\n",
            "W 6\n",
            "o 7\n",
            "r 8\n",
            "l 9\n",
            "d 10\n"
          ]
        }
      ]
    },
    {
      "cell_type": "markdown",
      "source": [
        "Python first compiles your source code into a byte code"
      ],
      "metadata": {
        "id": "cnsPvrq__-mt"
      }
    },
    {
      "cell_type": "markdown",
      "source": [
        "Python process has write access on your machine it will store the byte code if your program in files that end with .pyc extension"
      ],
      "metadata": {
        "id": "-puCVIjBAuNN"
      }
    },
    {
      "cell_type": "markdown",
      "source": [
        "Compilation is simply a translation step, and byte code is a lower level , form independent representation of your source code"
      ],
      "metadata": {
        "id": "CpFGoqdkBLlV"
      }
    },
    {
      "cell_type": "markdown",
      "source": [
        "Program has been compiled to byte code ,it is shipped off for execution to something generally known as the python Virtual Machine"
      ],
      "metadata": {
        "id": "VIDRHxRfCZM1"
      }
    },
    {
      "cell_type": "markdown",
      "source": [
        "The original and standard implementation of python is usually called CPython , when you want to contrast it wiht the other two . Its name comes from the fact that it is coded in portable ANSI C language code"
      ],
      "metadata": {
        "id": "1tVubV64D8Xe"
      }
    },
    {
      "cell_type": "markdown",
      "source": [
        "The Jython system is an alternative implementation of the Python language, targeted for integration with the java programming language.Jython consist of Java classes that complie"
      ],
      "metadata": {
        "id": "FdInOhNbEpv9"
      }
    },
    {
      "cell_type": "markdown",
      "source": [
        "IronPython is designed to allow Python programs to integrate with application coded. to work with Microsoft's .NET Framework for windows, as well as the Mono open source equivalent for Linux"
      ],
      "metadata": {
        "id": "3bdYO520FNGd"
      }
    },
    {
      "cell_type": "markdown",
      "source": [
        "The Psyco just-in-time compiler runs faster"
      ],
      "metadata": {
        "id": "pjYHstodF1El"
      }
    },
    {
      "cell_type": "markdown",
      "source": [
        "Frozen Binaries\n",
        "Is possible to turn your python program into true extension known as frozen binaries in the Python world"
      ],
      "metadata": {
        "id": "b7WTxhwfGqjX"
      }
    },
    {
      "cell_type": "markdown",
      "source": [
        "Introduction to Python Object\n",
        "\n",
        "1)Program are composed of modules\n",
        "2)Modules contains statements\n",
        "3)Statements contain expression\n",
        "4)Expression create and process objects"
      ],
      "metadata": {
        "id": "tuACfGTJHTuO"
      }
    },
    {
      "cell_type": "markdown",
      "source": [
        "Object Type  :->            Example literals/creation\n",
        "\n",
        "Numbers      :->       12,2.3,2+7j,decimal,Fraction\n",
        "\n",
        "Strings      :->       'spam',\"aa's\",b'a\\x01c'\n",
        "\n",
        "Lists         :->       [1,[2,'three'],4]\n",
        "\n",
        "Dictionaries    :->      {'food':'spam'}\n",
        "\n",
        "Tupels       :->    (1,'span','u')\n",
        "\n",
        "files          :->       myfile=open('eggs','r')\n",
        "\n",
        "Sets            :->     set('abc'),{'a','b','c'}\n",
        "\n",
        "Other core types    :->    Booleans,types,None\n"
      ],
      "metadata": {
        "id": "rU_Su00gIMI2"
      }
    },
    {
      "cell_type": "code",
      "source": [
        "s='spam'\n",
        "s+'xyz'"
      ],
      "metadata": {
        "colab": {
          "base_uri": "https://localhost:8080/",
          "height": 35
        },
        "id": "4_Kkfr2fJMFC",
        "outputId": "15673583-9cb3-41e7-e601-5851c5c4ea0b"
      },
      "execution_count": null,
      "outputs": [
        {
          "output_type": "execute_result",
          "data": {
            "text/plain": [
              "'spamxyz'"
            ],
            "application/vnd.google.colaboratory.intrinsic+json": {
              "type": "string"
            }
          },
          "metadata": {},
          "execution_count": 154
        }
      ]
    },
    {
      "cell_type": "code",
      "source": [
        "s"
      ],
      "metadata": {
        "colab": {
          "base_uri": "https://localhost:8080/",
          "height": 35
        },
        "id": "KGLpGWhDLP8p",
        "outputId": "b6d6c9e2-6f01-482b-b0d3-9a65910d0b20"
      },
      "execution_count": null,
      "outputs": [
        {
          "output_type": "execute_result",
          "data": {
            "text/plain": [
              "'spam'"
            ],
            "application/vnd.google.colaboratory.intrinsic+json": {
              "type": "string"
            }
          },
          "metadata": {},
          "execution_count": 155
        }
      ]
    },
    {
      "cell_type": "code",
      "source": [
        "# s=s+'xyz'"
      ],
      "metadata": {
        "id": "amFOm-n8LlZP"
      },
      "execution_count": null,
      "outputs": []
    },
    {
      "cell_type": "code",
      "source": [
        "s"
      ],
      "metadata": {
        "colab": {
          "base_uri": "https://localhost:8080/",
          "height": 35
        },
        "id": "WRf0mKHSLo3d",
        "outputId": "3edf98c3-e2f0-460b-a710-8ac06be24003"
      },
      "execution_count": null,
      "outputs": [
        {
          "output_type": "execute_result",
          "data": {
            "text/plain": [
              "'spam'"
            ],
            "application/vnd.google.colaboratory.intrinsic+json": {
              "type": "string"
            }
          },
          "metadata": {},
          "execution_count": 157
        }
      ]
    },
    {
      "cell_type": "code",
      "source": [
        "# s[0]='z'  #immutable object cannot be changed"
      ],
      "metadata": {
        "id": "X_pzM1e4Lp-0"
      },
      "execution_count": null,
      "outputs": []
    },
    {
      "cell_type": "code",
      "source": [
        "s.replace('pa','XYZ')"
      ],
      "metadata": {
        "colab": {
          "base_uri": "https://localhost:8080/",
          "height": 35
        },
        "id": "cPXiKTg2ME0R",
        "outputId": "c646029d-5ac4-420a-c2d8-149bb2cbc627"
      },
      "execution_count": null,
      "outputs": [
        {
          "output_type": "execute_result",
          "data": {
            "text/plain": [
              "'sXYZm'"
            ],
            "application/vnd.google.colaboratory.intrinsic+json": {
              "type": "string"
            }
          },
          "metadata": {},
          "execution_count": 159
        }
      ]
    },
    {
      "cell_type": "code",
      "source": [
        "s"
      ],
      "metadata": {
        "colab": {
          "base_uri": "https://localhost:8080/",
          "height": 35
        },
        "id": "VFVP9GU5MVEF",
        "outputId": "aca6adf7-2c85-47ab-8315-96723f99f8e5"
      },
      "execution_count": null,
      "outputs": [
        {
          "output_type": "execute_result",
          "data": {
            "text/plain": [
              "'spam'"
            ],
            "application/vnd.google.colaboratory.intrinsic+json": {
              "type": "string"
            }
          },
          "metadata": {},
          "execution_count": 160
        }
      ]
    },
    {
      "cell_type": "code",
      "source": [
        "s.find('pa')"
      ],
      "metadata": {
        "colab": {
          "base_uri": "https://localhost:8080/"
        },
        "id": "Og42XeC6MXRF",
        "outputId": "bb2190be-8ad4-4715-af09-7f9c6100530f"
      },
      "execution_count": null,
      "outputs": [
        {
          "output_type": "execute_result",
          "data": {
            "text/plain": [
              "1"
            ]
          },
          "metadata": {},
          "execution_count": 161
        }
      ]
    },
    {
      "cell_type": "code",
      "source": [
        "line='aaa,bbb,ccccc'\n",
        "line.split(',')"
      ],
      "metadata": {
        "colab": {
          "base_uri": "https://localhost:8080/"
        },
        "id": "Ay_KudzBMnnp",
        "outputId": "1d171af5-ae12-42da-bf47-0d41263df658"
      },
      "execution_count": null,
      "outputs": [
        {
          "output_type": "execute_result",
          "data": {
            "text/plain": [
              "['aaa', 'bbb', 'ccccc']"
            ]
          },
          "metadata": {},
          "execution_count": 162
        }
      ]
    },
    {
      "cell_type": "code",
      "source": [
        "S='spam'"
      ],
      "metadata": {
        "id": "EjXf5_WMNINO"
      },
      "execution_count": null,
      "outputs": []
    },
    {
      "cell_type": "code",
      "source": [
        "S.upper()"
      ],
      "metadata": {
        "colab": {
          "base_uri": "https://localhost:8080/",
          "height": 35
        },
        "id": "D3JQS7OuNL1h",
        "outputId": "18489dcd-4bc3-44bb-a22e-564b06af7a28"
      },
      "execution_count": null,
      "outputs": [
        {
          "output_type": "execute_result",
          "data": {
            "text/plain": [
              "'SPAM'"
            ],
            "application/vnd.google.colaboratory.intrinsic+json": {
              "type": "string"
            }
          },
          "metadata": {},
          "execution_count": 164
        }
      ]
    },
    {
      "cell_type": "code",
      "source": [
        "S.isalpha()"
      ],
      "metadata": {
        "colab": {
          "base_uri": "https://localhost:8080/"
        },
        "id": "AJr-grW7NNgB",
        "outputId": "57845c6e-b70d-428a-e64b-37b0e819d1e3"
      },
      "execution_count": null,
      "outputs": [
        {
          "output_type": "execute_result",
          "data": {
            "text/plain": [
              "True"
            ]
          },
          "metadata": {},
          "execution_count": 165
        }
      ]
    },
    {
      "cell_type": "code",
      "source": [
        "line=line.rstrip()"
      ],
      "metadata": {
        "id": "tzkA2B5vNP7-"
      },
      "execution_count": null,
      "outputs": []
    },
    {
      "cell_type": "code",
      "source": [
        "line"
      ],
      "metadata": {
        "colab": {
          "base_uri": "https://localhost:8080/",
          "height": 35
        },
        "id": "Rte_iQhoNU7E",
        "outputId": "d121fb9c-d12b-438e-e8be-e51c8c8f1779"
      },
      "execution_count": null,
      "outputs": [
        {
          "output_type": "execute_result",
          "data": {
            "text/plain": [
              "'aaa,bbb,ccccc'"
            ],
            "application/vnd.google.colaboratory.intrinsic+json": {
              "type": "string"
            }
          },
          "metadata": {},
          "execution_count": 167
        }
      ]
    },
    {
      "cell_type": "code",
      "source": [
        "'%s,eggs,and%s'%('spam','SPAM')"
      ],
      "metadata": {
        "colab": {
          "base_uri": "https://localhost:8080/",
          "height": 35
        },
        "id": "6AGQQNpeNVTr",
        "outputId": "6c2b0a78-b3c6-44a4-ec14-52c81150d5d5"
      },
      "execution_count": null,
      "outputs": [
        {
          "output_type": "execute_result",
          "data": {
            "text/plain": [
              "'spam,eggs,andSPAM'"
            ],
            "application/vnd.google.colaboratory.intrinsic+json": {
              "type": "string"
            }
          },
          "metadata": {},
          "execution_count": 168
        }
      ]
    },
    {
      "cell_type": "code",
      "source": [
        "'{0},eggs,and{1}'.format('spam','SPAM!')"
      ],
      "metadata": {
        "colab": {
          "base_uri": "https://localhost:8080/",
          "height": 35
        },
        "id": "sBXdDUDRNd1p",
        "outputId": "8d8781cb-1ce2-4b8e-9492-8b475cf57103"
      },
      "execution_count": null,
      "outputs": [
        {
          "output_type": "execute_result",
          "data": {
            "text/plain": [
              "'spam,eggs,andSPAM!'"
            ],
            "application/vnd.google.colaboratory.intrinsic+json": {
              "type": "string"
            }
          },
          "metadata": {},
          "execution_count": 169
        }
      ]
    },
    {
      "cell_type": "code",
      "source": [
        "# import re\n",
        "# match=re.match('Hello[\\t]*(.*)world',   'Hello  Python world)\n",
        "# match.group(1)"
      ],
      "metadata": {
        "id": "AwnPztYfNlI1"
      },
      "execution_count": null,
      "outputs": []
    },
    {
      "cell_type": "markdown",
      "source": [
        "#Sequence Operation\n"
      ],
      "metadata": {
        "id": "XQFsi859PFEy"
      }
    },
    {
      "cell_type": "code",
      "source": [
        "l=[123,'spam',1.23]\n",
        "len(l)"
      ],
      "metadata": {
        "colab": {
          "base_uri": "https://localhost:8080/"
        },
        "id": "8L7BGa4tPHz9",
        "outputId": "006bd668-ca2a-4c82-e872-2344eb98a3a7"
      },
      "execution_count": null,
      "outputs": [
        {
          "output_type": "execute_result",
          "data": {
            "text/plain": [
              "3"
            ]
          },
          "metadata": {},
          "execution_count": 171
        }
      ]
    },
    {
      "cell_type": "code",
      "source": [
        "l[0]"
      ],
      "metadata": {
        "colab": {
          "base_uri": "https://localhost:8080/"
        },
        "id": "dEfiliQIPR2y",
        "outputId": "073cf394-1492-49c4-c573-fa6fbfe3223c"
      },
      "execution_count": null,
      "outputs": [
        {
          "output_type": "execute_result",
          "data": {
            "text/plain": [
              "123"
            ]
          },
          "metadata": {},
          "execution_count": 172
        }
      ]
    },
    {
      "cell_type": "code",
      "source": [
        "l[:-1]"
      ],
      "metadata": {
        "colab": {
          "base_uri": "https://localhost:8080/"
        },
        "id": "_hMDyhnSPWN-",
        "outputId": "fb17852f-e910-44fd-fe73-d054fa581660"
      },
      "execution_count": null,
      "outputs": [
        {
          "output_type": "execute_result",
          "data": {
            "text/plain": [
              "[123, 'spam']"
            ]
          },
          "metadata": {},
          "execution_count": 173
        }
      ]
    },
    {
      "cell_type": "code",
      "source": [
        "l+[1,2,3,4]"
      ],
      "metadata": {
        "colab": {
          "base_uri": "https://localhost:8080/"
        },
        "id": "SxBu7Mf6PbLC",
        "outputId": "3cbf8291-92c0-4ff2-9272-d95f85ff1fd1"
      },
      "execution_count": null,
      "outputs": [
        {
          "output_type": "execute_result",
          "data": {
            "text/plain": [
              "[123, 'spam', 1.23, 1, 2, 3, 4]"
            ]
          },
          "metadata": {},
          "execution_count": 174
        }
      ]
    },
    {
      "cell_type": "code",
      "source": [
        "l.append([6,7,8])"
      ],
      "metadata": {
        "id": "SPHlTsEfPdKG"
      },
      "execution_count": null,
      "outputs": []
    },
    {
      "cell_type": "code",
      "source": [
        "l\n"
      ],
      "metadata": {
        "colab": {
          "base_uri": "https://localhost:8080/"
        },
        "id": "3GjoehrIQCAO",
        "outputId": "c6ad2f30-f673-4d01-eb0b-8b7582fcc920"
      },
      "execution_count": null,
      "outputs": [
        {
          "output_type": "execute_result",
          "data": {
            "text/plain": [
              "[123, 'spam', 1.23, [6, 7, 8]]"
            ]
          },
          "metadata": {},
          "execution_count": 176
        }
      ]
    },
    {
      "cell_type": "code",
      "source": [
        "l.append('NI')"
      ],
      "metadata": {
        "id": "0kZzwsrIQDVU"
      },
      "execution_count": null,
      "outputs": []
    },
    {
      "cell_type": "code",
      "source": [
        "l.pop(2)"
      ],
      "metadata": {
        "colab": {
          "base_uri": "https://localhost:8080/"
        },
        "id": "SJrWwhIdQWgG",
        "outputId": "6aa246e2-699e-4efd-9a9e-965c19c751fa"
      },
      "execution_count": null,
      "outputs": [
        {
          "output_type": "execute_result",
          "data": {
            "text/plain": [
              "1.23"
            ]
          },
          "metadata": {},
          "execution_count": 178
        }
      ]
    },
    {
      "cell_type": "code",
      "source": [
        "l"
      ],
      "metadata": {
        "colab": {
          "base_uri": "https://localhost:8080/"
        },
        "id": "9oQgtVgSQXwn",
        "outputId": "5c46e775-ea94-432b-9b35-95dd65d584aa"
      },
      "execution_count": null,
      "outputs": [
        {
          "output_type": "execute_result",
          "data": {
            "text/plain": [
              "[123, 'spam', [6, 7, 8], 'NI']"
            ]
          },
          "metadata": {},
          "execution_count": 179
        }
      ]
    },
    {
      "cell_type": "code",
      "source": [
        "M=['aa','bb','cc']\n",
        "M.sort()"
      ],
      "metadata": {
        "id": "ks5AOCQgQYZ1"
      },
      "execution_count": null,
      "outputs": []
    },
    {
      "cell_type": "code",
      "source": [
        "M.reverse()"
      ],
      "metadata": {
        "id": "_r9Wx32fQfK5"
      },
      "execution_count": null,
      "outputs": []
    },
    {
      "cell_type": "code",
      "source": [
        "M"
      ],
      "metadata": {
        "colab": {
          "base_uri": "https://localhost:8080/"
        },
        "id": "3GCOyyDxQhBo",
        "outputId": "308bb85b-bd71-4773-c5fe-9895e9614837"
      },
      "execution_count": null,
      "outputs": [
        {
          "output_type": "execute_result",
          "data": {
            "text/plain": [
              "['cc', 'bb', 'aa']"
            ]
          },
          "metadata": {},
          "execution_count": 182
        }
      ]
    },
    {
      "cell_type": "markdown",
      "source": [
        "#NESTING"
      ],
      "metadata": {
        "id": "MoPp2ChxRFFP"
      }
    },
    {
      "cell_type": "code",
      "source": [
        "M=[[1,2,3],[4,5,6],[7,8,9]]\n",
        "M"
      ],
      "metadata": {
        "colab": {
          "base_uri": "https://localhost:8080/"
        },
        "id": "NDWTXvbkRGSq",
        "outputId": "894169e9-9005-4c82-ba6c-953cefe1916e"
      },
      "execution_count": null,
      "outputs": [
        {
          "output_type": "execute_result",
          "data": {
            "text/plain": [
              "[[1, 2, 3], [4, 5, 6], [7, 8, 9]]"
            ]
          },
          "metadata": {},
          "execution_count": 183
        }
      ]
    },
    {
      "cell_type": "code",
      "source": [
        "M[1]"
      ],
      "metadata": {
        "colab": {
          "base_uri": "https://localhost:8080/"
        },
        "id": "5XLtEWnaRMAo",
        "outputId": "d3d93d90-58e5-4004-ff61-142e58a7fc27"
      },
      "execution_count": null,
      "outputs": [
        {
          "output_type": "execute_result",
          "data": {
            "text/plain": [
              "[4, 5, 6]"
            ]
          },
          "metadata": {},
          "execution_count": 184
        }
      ]
    },
    {
      "cell_type": "code",
      "source": [
        "M[1][2]"
      ],
      "metadata": {
        "colab": {
          "base_uri": "https://localhost:8080/"
        },
        "id": "Akyh2pJiRORE",
        "outputId": "68a94811-6477-4898-a8bf-4cdd36a5f779"
      },
      "execution_count": null,
      "outputs": [
        {
          "output_type": "execute_result",
          "data": {
            "text/plain": [
              "6"
            ]
          },
          "metadata": {},
          "execution_count": 185
        }
      ]
    },
    {
      "cell_type": "code",
      "source": [
        "col2=[row[1] for row in M]\n",
        "col2         #iiiiimmmmmmmmppppppppppp"
      ],
      "metadata": {
        "colab": {
          "base_uri": "https://localhost:8080/"
        },
        "id": "AtQlwrtkRe59",
        "outputId": "027312b3-ef13-44b9-f3b1-70537bc08a28"
      },
      "execution_count": null,
      "outputs": [
        {
          "output_type": "execute_result",
          "data": {
            "text/plain": [
              "[2, 5, 8]"
            ]
          },
          "metadata": {},
          "execution_count": 186
        }
      ]
    },
    {
      "cell_type": "code",
      "source": [
        "M"
      ],
      "metadata": {
        "colab": {
          "base_uri": "https://localhost:8080/"
        },
        "id": "m3u--IHVSJhO",
        "outputId": "22a22d3f-121a-4511-bc42-4455fae3e2a4"
      },
      "execution_count": null,
      "outputs": [
        {
          "output_type": "execute_result",
          "data": {
            "text/plain": [
              "[[1, 2, 3], [4, 5, 6], [7, 8, 9]]"
            ]
          },
          "metadata": {},
          "execution_count": 187
        }
      ]
    },
    {
      "cell_type": "code",
      "source": [
        "[row[1]for row in M if row[1]%2==0]\n"
      ],
      "metadata": {
        "colab": {
          "base_uri": "https://localhost:8080/"
        },
        "id": "Q3dht2ecSK93",
        "outputId": "95766ba3-1631-45b0-8c26-94bd212a1a64"
      },
      "execution_count": null,
      "outputs": [
        {
          "output_type": "execute_result",
          "data": {
            "text/plain": [
              "[2, 8]"
            ]
          },
          "metadata": {},
          "execution_count": 188
        }
      ]
    },
    {
      "cell_type": "code",
      "source": [
        "[row[1]+1 for row in M] #Add 1 to each item in column 2"
      ],
      "metadata": {
        "colab": {
          "base_uri": "https://localhost:8080/"
        },
        "id": "eimuw216TDnB",
        "outputId": "7b22c384-93b2-4e73-d2ac-4497f9d01964"
      },
      "execution_count": null,
      "outputs": [
        {
          "output_type": "execute_result",
          "data": {
            "text/plain": [
              "[3, 6, 9]"
            ]
          },
          "metadata": {},
          "execution_count": 189
        }
      ]
    },
    {
      "cell_type": "code",
      "source": [
        "diag=[M[i][i] for i in [0,1,2]]   #Collect a dialogue from matrix"
      ],
      "metadata": {
        "id": "aRwP28NWTbhZ"
      },
      "execution_count": null,
      "outputs": []
    },
    {
      "cell_type": "code",
      "source": [
        "diag"
      ],
      "metadata": {
        "colab": {
          "base_uri": "https://localhost:8080/"
        },
        "id": "Aqwj2YBQTm01",
        "outputId": "f9191972-255a-44da-ce08-c9c91d069dc1"
      },
      "execution_count": null,
      "outputs": [
        {
          "output_type": "execute_result",
          "data": {
            "text/plain": [
              "[1, 5, 9]"
            ]
          },
          "metadata": {},
          "execution_count": 191
        }
      ]
    },
    {
      "cell_type": "code",
      "source": [
        "double=[c*2 for c in 'spam']"
      ],
      "metadata": {
        "id": "C1u9AHPZTnnn"
      },
      "execution_count": null,
      "outputs": []
    },
    {
      "cell_type": "code",
      "source": [
        "double"
      ],
      "metadata": {
        "colab": {
          "base_uri": "https://localhost:8080/"
        },
        "id": "o9BYj_ihTudU",
        "outputId": "ecbea83e-37d0-4fb9-f058-38f2bbfc8afa"
      },
      "execution_count": null,
      "outputs": [
        {
          "output_type": "execute_result",
          "data": {
            "text/plain": [
              "['ss', 'pp', 'aa', 'mm']"
            ]
          },
          "metadata": {},
          "execution_count": 193
        }
      ]
    },
    {
      "cell_type": "code",
      "source": [
        "#Map\n",
        "\n",
        "list(map(sum,M))             #Map sum over items in M"
      ],
      "metadata": {
        "colab": {
          "base_uri": "https://localhost:8080/"
        },
        "id": "5mulF_c6TvuC",
        "outputId": "9f1c684e-b6fd-4e1f-d777-858979ed399c"
      },
      "execution_count": null,
      "outputs": [
        {
          "output_type": "execute_result",
          "data": {
            "text/plain": [
              "[6, 15, 24]"
            ]
          },
          "metadata": {},
          "execution_count": 194
        }
      ]
    },
    {
      "cell_type": "code",
      "source": [
        "#Dictionaries   (list comprehension which can be used at the place of map)\n",
        "{sum(row) for row in M}          #Create a set of row sums"
      ],
      "metadata": {
        "colab": {
          "base_uri": "https://localhost:8080/"
        },
        "id": "OL0QvOaCU33b",
        "outputId": "1b2390ac-81a5-420a-fcde-1c609ff4455c"
      },
      "execution_count": null,
      "outputs": [
        {
          "output_type": "execute_result",
          "data": {
            "text/plain": [
              "{6, 15, 24}"
            ]
          },
          "metadata": {},
          "execution_count": 195
        }
      ]
    },
    {
      "cell_type": "code",
      "source": [
        "{i : sum(M[i])for i in range(3)}    #Create key/value table of rows"
      ],
      "metadata": {
        "colab": {
          "base_uri": "https://localhost:8080/"
        },
        "id": "8P3HKA3EVFV2",
        "outputId": "6cb2984f-84f5-4758-b363-43c13d4a9314"
      },
      "execution_count": null,
      "outputs": [
        {
          "output_type": "execute_result",
          "data": {
            "text/plain": [
              "{0: 6, 1: 15, 2: 24}"
            ]
          },
          "metadata": {},
          "execution_count": 196
        }
      ]
    },
    {
      "cell_type": "code",
      "source": [
        "[ord(x) for x in  'spaam']   #List of char ordinals"
      ],
      "metadata": {
        "colab": {
          "base_uri": "https://localhost:8080/"
        },
        "id": "oOJ6QA7qVY_o",
        "outputId": "03fb9505-4f87-4ac6-dda4-4da40e992f7e"
      },
      "execution_count": null,
      "outputs": [
        {
          "output_type": "execute_result",
          "data": {
            "text/plain": [
              "[115, 112, 97, 97, 109]"
            ]
          },
          "metadata": {},
          "execution_count": 197
        }
      ]
    },
    {
      "cell_type": "code",
      "source": [
        "{ord(x)for x in 'spaam'}          #Sets remove dulicates"
      ],
      "metadata": {
        "colab": {
          "base_uri": "https://localhost:8080/"
        },
        "id": "hVAF7Y-MV52c",
        "outputId": "09b9f63b-e4eb-43a8-df87-de55e76fd193"
      },
      "execution_count": null,
      "outputs": [
        {
          "output_type": "execute_result",
          "data": {
            "text/plain": [
              "{97, 109, 112, 115}"
            ]
          },
          "metadata": {},
          "execution_count": 198
        }
      ]
    },
    {
      "cell_type": "code",
      "source": [
        "{x:ord(x) for x in 'spaam'}   #Dictionary key are unique"
      ],
      "metadata": {
        "colab": {
          "base_uri": "https://localhost:8080/"
        },
        "id": "rh9DmeddWAMv",
        "outputId": "3a2dab59-ef0f-4db4-9966-8615334fb4d4"
      },
      "execution_count": null,
      "outputs": [
        {
          "output_type": "execute_result",
          "data": {
            "text/plain": [
              "{'s': 115, 'p': 112, 'a': 97, 'm': 109}"
            ]
          },
          "metadata": {},
          "execution_count": 199
        }
      ]
    },
    {
      "cell_type": "markdown",
      "source": [
        "#DICTIONARIES"
      ],
      "metadata": {
        "id": "ZOxIF2I7WVBl"
      }
    },
    {
      "cell_type": "code",
      "source": [
        "D={'food':'Spam','quantity':4,'color':'pink'}"
      ],
      "metadata": {
        "id": "ihJjlGjfWW9n"
      },
      "execution_count": null,
      "outputs": []
    },
    {
      "cell_type": "code",
      "source": [
        "D['food']"
      ],
      "metadata": {
        "colab": {
          "base_uri": "https://localhost:8080/",
          "height": 35
        },
        "id": "HUFtft9MW_CL",
        "outputId": "02434ae0-ca24-4fbb-80dd-c12a8a23d256"
      },
      "execution_count": null,
      "outputs": [
        {
          "output_type": "execute_result",
          "data": {
            "text/plain": [
              "'Spam'"
            ],
            "application/vnd.google.colaboratory.intrinsic+json": {
              "type": "string"
            }
          },
          "metadata": {},
          "execution_count": 201
        }
      ]
    },
    {
      "cell_type": "code",
      "source": [
        "D['quantity']+=1\n",
        "D\n"
      ],
      "metadata": {
        "colab": {
          "base_uri": "https://localhost:8080/"
        },
        "id": "EgNdpuKSXBo9",
        "outputId": "6843aad0-35b6-4933-dfa5-2008008f3a62"
      },
      "execution_count": null,
      "outputs": [
        {
          "output_type": "execute_result",
          "data": {
            "text/plain": [
              "{'food': 'Spam', 'quantity': 5, 'color': 'pink'}"
            ]
          },
          "metadata": {},
          "execution_count": 202
        }
      ]
    },
    {
      "cell_type": "code",
      "source": [
        "D={}\n",
        "D['name']='Bob'\n",
        "D['job']='dev'\n",
        "D['pay']=10000\n",
        "D"
      ],
      "metadata": {
        "colab": {
          "base_uri": "https://localhost:8080/"
        },
        "id": "SVA0ZO2vXVtD",
        "outputId": "9beb4cf7-d7b7-4696-9cea-6dffdbb16f22"
      },
      "execution_count": null,
      "outputs": [
        {
          "output_type": "execute_result",
          "data": {
            "text/plain": [
              "{'name': 'Bob', 'job': 'dev', 'pay': 10000}"
            ]
          },
          "metadata": {},
          "execution_count": 203
        }
      ]
    },
    {
      "cell_type": "code",
      "source": [
        "print(D['name'])"
      ],
      "metadata": {
        "colab": {
          "base_uri": "https://localhost:8080/"
        },
        "id": "vayagO5AXnCW",
        "outputId": "e2ba5d13-89e0-43e1-96b8-b6313695b4f4"
      },
      "execution_count": null,
      "outputs": [
        {
          "output_type": "stream",
          "name": "stdout",
          "text": [
            "Bob\n"
          ]
        }
      ]
    },
    {
      "cell_type": "code",
      "source": [
        "#Nesting Revisites\n",
        "\n",
        "\n",
        "rec={'name':{'first':'Bob','last':'Smith'},'job':['dev','mrg'],\n",
        "     'age':40.5}"
      ],
      "metadata": {
        "id": "MKKi5_imXqlB"
      },
      "execution_count": null,
      "outputs": []
    },
    {
      "cell_type": "code",
      "source": [
        "rec['name']['first']"
      ],
      "metadata": {
        "colab": {
          "base_uri": "https://localhost:8080/",
          "height": 35
        },
        "id": "ZzCBdjKGY6QZ",
        "outputId": "164bbcfd-eba8-4701-85be-8d3e93b2b90c"
      },
      "execution_count": null,
      "outputs": [
        {
          "output_type": "execute_result",
          "data": {
            "text/plain": [
              "'Bob'"
            ],
            "application/vnd.google.colaboratory.intrinsic+json": {
              "type": "string"
            }
          },
          "metadata": {},
          "execution_count": 206
        }
      ]
    },
    {
      "cell_type": "code",
      "source": [
        "rec['job'][1]"
      ],
      "metadata": {
        "colab": {
          "base_uri": "https://localhost:8080/",
          "height": 35
        },
        "id": "rzu5Gd85ZIG-",
        "outputId": "20408951-6f73-4e40-9b80-650c1927e904"
      },
      "execution_count": null,
      "outputs": [
        {
          "output_type": "execute_result",
          "data": {
            "text/plain": [
              "'mrg'"
            ],
            "application/vnd.google.colaboratory.intrinsic+json": {
              "type": "string"
            }
          },
          "metadata": {},
          "execution_count": 207
        }
      ]
    },
    {
      "cell_type": "code",
      "source": [
        "rec['job'][-1]"
      ],
      "metadata": {
        "colab": {
          "base_uri": "https://localhost:8080/",
          "height": 35
        },
        "id": "FQAZ0aSKZMQy",
        "outputId": "117e80eb-919f-41f5-d199-1cf317d611b7"
      },
      "execution_count": null,
      "outputs": [
        {
          "output_type": "execute_result",
          "data": {
            "text/plain": [
              "'mrg'"
            ],
            "application/vnd.google.colaboratory.intrinsic+json": {
              "type": "string"
            }
          },
          "metadata": {},
          "execution_count": 208
        }
      ]
    },
    {
      "cell_type": "code",
      "source": [
        "rec['job'].append('janitor')"
      ],
      "metadata": {
        "id": "6yVue07lZSI1"
      },
      "execution_count": null,
      "outputs": []
    },
    {
      "cell_type": "code",
      "source": [
        "rec"
      ],
      "metadata": {
        "colab": {
          "base_uri": "https://localhost:8080/"
        },
        "id": "GyX8j8LOZWw6",
        "outputId": "cb945a00-ded3-4cb9-fd8e-713a187fe740"
      },
      "execution_count": null,
      "outputs": [
        {
          "output_type": "execute_result",
          "data": {
            "text/plain": [
              "{'name': {'first': 'Bob', 'last': 'Smith'},\n",
              " 'job': ['dev', 'mrg', 'janitor'],\n",
              " 'age': 40.5}"
            ]
          },
          "metadata": {},
          "execution_count": 210
        }
      ]
    },
    {
      "cell_type": "code",
      "source": [
        "D={'a':1,'e':3,'c':2}\n",
        "for key in sorted(D):\n",
        "  print(key,'=>',D[key])     #sorted with respect to keys"
      ],
      "metadata": {
        "colab": {
          "base_uri": "https://localhost:8080/"
        },
        "id": "zMIfmbVuZXgG",
        "outputId": "e0a06a66-dde6-4ac3-b20a-c30297c04654"
      },
      "execution_count": null,
      "outputs": [
        {
          "output_type": "stream",
          "name": "stdout",
          "text": [
            "a => 1\n",
            "c => 2\n",
            "e => 3\n"
          ]
        }
      ]
    },
    {
      "cell_type": "code",
      "source": [
        "D={'a':1,'e':3,'c':2}\n",
        "D['e']=99"
      ],
      "metadata": {
        "id": "ibuTtPnbsicu"
      },
      "execution_count": null,
      "outputs": []
    },
    {
      "cell_type": "code",
      "source": [
        "D['f']"
      ],
      "metadata": {
        "colab": {
          "base_uri": "https://localhost:8080/",
          "height": 141
        },
        "id": "NETfvd7hs8LY",
        "outputId": "ca5742e3-7ca3-494a-e395-36de4cc56a94"
      },
      "execution_count": null,
      "outputs": [
        {
          "output_type": "error",
          "ename": "KeyError",
          "evalue": "'f'",
          "traceback": [
            "\u001b[0;31m---------------------------------------------------------------------------\u001b[0m",
            "\u001b[0;31mKeyError\u001b[0m                                  Traceback (most recent call last)",
            "\u001b[0;32m<ipython-input-2-320d360f1852>\u001b[0m in \u001b[0;36m<cell line: 1>\u001b[0;34m()\u001b[0m\n\u001b[0;32m----> 1\u001b[0;31m \u001b[0mD\u001b[0m\u001b[0;34m[\u001b[0m\u001b[0;34m'f'\u001b[0m\u001b[0;34m]\u001b[0m\u001b[0;34m\u001b[0m\u001b[0;34m\u001b[0m\u001b[0m\n\u001b[0m",
            "\u001b[0;31mKeyError\u001b[0m: 'f'"
          ]
        }
      ]
    },
    {
      "cell_type": "code",
      "source": [
        "value=D.get('x',0)                               #index but with a default"
      ],
      "metadata": {
        "id": "PseMBH1vs-y-"
      },
      "execution_count": null,
      "outputs": []
    },
    {
      "cell_type": "code",
      "source": [
        "value=D['x']if 'x' in D else 0                    #index expression from"
      ],
      "metadata": {
        "id": "YFR4u2fKt611"
      },
      "execution_count": null,
      "outputs": []
    },
    {
      "cell_type": "code",
      "source": [
        "#Tuple\n",
        "# ARE IMMUTABLE\n",
        "\n",
        "T=(1,2,3)\n",
        "len(T)"
      ],
      "metadata": {
        "colab": {
          "base_uri": "https://localhost:8080/"
        },
        "id": "YT22O_ozt_Wj",
        "outputId": "32f90251-b6e2-4bfd-a416-142af2008eb6"
      },
      "execution_count": null,
      "outputs": [
        {
          "output_type": "execute_result",
          "data": {
            "text/plain": [
              "3"
            ]
          },
          "metadata": {},
          "execution_count": 6
        }
      ]
    },
    {
      "cell_type": "code",
      "source": [
        "T=T+(4,5)"
      ],
      "metadata": {
        "id": "ZQA7_t5ju4xq"
      },
      "execution_count": null,
      "outputs": []
    },
    {
      "cell_type": "code",
      "source": [
        "T[0]"
      ],
      "metadata": {
        "colab": {
          "base_uri": "https://localhost:8080/"
        },
        "id": "cebXQFi2vFnu",
        "outputId": "1c76496c-18ed-47c3-cb6f-ff5bb3a9ca49"
      },
      "execution_count": null,
      "outputs": [
        {
          "output_type": "execute_result",
          "data": {
            "text/plain": [
              "1"
            ]
          },
          "metadata": {},
          "execution_count": 12
        }
      ]
    },
    {
      "cell_type": "code",
      "source": [
        "T.index(4)"
      ],
      "metadata": {
        "colab": {
          "base_uri": "https://localhost:8080/"
        },
        "id": "vbTIsCMmvGkl",
        "outputId": "41dbbbe5-efdd-432b-b176-9f0b308b70fe"
      },
      "execution_count": null,
      "outputs": [
        {
          "output_type": "execute_result",
          "data": {
            "text/plain": [
              "3"
            ]
          },
          "metadata": {},
          "execution_count": 15
        }
      ]
    },
    {
      "cell_type": "code",
      "source": [
        "T.count(4)"
      ],
      "metadata": {
        "colab": {
          "base_uri": "https://localhost:8080/"
        },
        "id": "8KQfRKShvIwu",
        "outputId": "0ea13dbb-c9ea-45e7-c3ca-4aee5e7256d6"
      },
      "execution_count": null,
      "outputs": [
        {
          "output_type": "execute_result",
          "data": {
            "text/plain": [
              "1"
            ]
          },
          "metadata": {},
          "execution_count": 14
        }
      ]
    },
    {
      "cell_type": "markdown",
      "source": [
        "#Files"
      ],
      "metadata": {
        "id": "1xm9OooQvpDw"
      }
    },
    {
      "cell_type": "code",
      "source": [
        "f=open('data.txt','w')                #Make a new file in output mode\n",
        "f.write('Hello\\n')                    #Write strings of bytes to it\n",
        "f.write('world\\n')                    #Return number of bytes written in python 3.0\n",
        "f.write('Hello Afefa \\n')\n",
        "f.close()                             #Close to flush output buffers to disk"
      ],
      "metadata": {
        "id": "aX2rXCMUvqk7"
      },
      "execution_count": null,
      "outputs": []
    },
    {
      "cell_type": "code",
      "source": [
        "f=open('data.txt')\n",
        "text=f.read()\n",
        "text"
      ],
      "metadata": {
        "colab": {
          "base_uri": "https://localhost:8080/",
          "height": 35
        },
        "id": "MfSjY7nmvzuV",
        "outputId": "7fae07e4-aef1-4937-9fc3-04922fec4d0c"
      },
      "execution_count": null,
      "outputs": [
        {
          "output_type": "execute_result",
          "data": {
            "text/plain": [
              "'Hello\\nworld\\nHello Afefa \\n'"
            ],
            "application/vnd.google.colaboratory.intrinsic+json": {
              "type": "string"
            }
          },
          "metadata": {},
          "execution_count": 21
        }
      ]
    },
    {
      "cell_type": "code",
      "source": [
        "text.split()"
      ],
      "metadata": {
        "colab": {
          "base_uri": "https://localhost:8080/"
        },
        "id": "ClySwIZXxfNT",
        "outputId": "9b831148-8443-43ce-ae87-9a5eb1d1c2f4"
      },
      "execution_count": null,
      "outputs": [
        {
          "output_type": "execute_result",
          "data": {
            "text/plain": [
              "['Hello', 'world', 'Hello', 'Afefa']"
            ]
          },
          "metadata": {},
          "execution_count": 22
        }
      ]
    },
    {
      "cell_type": "code",
      "source": [
        "help(f.seek)"
      ],
      "metadata": {
        "colab": {
          "base_uri": "https://localhost:8080/"
        },
        "id": "As3NzD7LyGjk",
        "outputId": "6b3af5f4-b24e-4b6e-8cee-91c5979ba4ee"
      },
      "execution_count": null,
      "outputs": [
        {
          "output_type": "stream",
          "name": "stdout",
          "text": [
            "Help on built-in function seek:\n",
            "\n",
            "seek(cookie, whence=0, /) method of _io.TextIOWrapper instance\n",
            "    Change stream position.\n",
            "    \n",
            "    Change the stream position to the given byte offset. The offset is\n",
            "    interpreted relative to the position indicated by whence.  Values\n",
            "    for whence are:\n",
            "    \n",
            "    * 0 -- start of stream (the default); offset should be zero or positive\n",
            "    * 1 -- current stream position; offset may be negative\n",
            "    * 2 -- end of stream; offset is usually negative\n",
            "    \n",
            "    Return the new absolute position.\n",
            "\n"
          ]
        }
      ]
    },
    {
      "cell_type": "code",
      "source": [
        "data=open('data.bin','w')\n",
        "data.write(\"straaaaaaaaaaaaaaaaaaaaaaaaaaaaaaaaaaaa\")\n",
        "data=open('data.bin','rb').read()\n",
        "print(data)\n"
      ],
      "metadata": {
        "colab": {
          "base_uri": "https://localhost:8080/"
        },
        "id": "hWlMLmYoyKzl",
        "outputId": "dd441f2f-000d-4beb-be58-fd39dc3e1bbc"
      },
      "execution_count": null,
      "outputs": [
        {
          "output_type": "stream",
          "name": "stdout",
          "text": [
            "b''\n"
          ]
        }
      ]
    },
    {
      "cell_type": "code",
      "source": [
        "data[4:8]"
      ],
      "metadata": {
        "colab": {
          "base_uri": "https://localhost:8080/"
        },
        "id": "BJe9hHXOyWxz",
        "outputId": "68c92173-381c-40fe-8bbe-1c54af9667bb"
      },
      "execution_count": null,
      "outputs": [
        {
          "output_type": "execute_result",
          "data": {
            "text/plain": [
              "b''"
            ]
          },
          "metadata": {},
          "execution_count": 39
        }
      ]
    },
    {
      "cell_type": "markdown",
      "source": [
        "#OTHER CORE TYPE"
      ],
      "metadata": {
        "id": "A1POVeuB0L5w"
      }
    },
    {
      "cell_type": "markdown",
      "source": [
        "Sets for example are a recent addition to the language that are neither mappings not sequence , rather they are unordered collection of unique and immutable objects"
      ],
      "metadata": {
        "id": "kfUzCtmg0itb"
      }
    },
    {
      "cell_type": "code",
      "source": [
        "X=set('spam')\n",
        "Y={'h','a','t','m','w'}\n",
        "X,Y\n",
        "X&Y"
      ],
      "metadata": {
        "colab": {
          "base_uri": "https://localhost:8080/"
        },
        "id": "mdAJRxaO0kXD",
        "outputId": "5541198d-42cc-4cff-f970-0effcebcecef"
      },
      "execution_count": null,
      "outputs": [
        {
          "output_type": "execute_result",
          "data": {
            "text/plain": [
              "{'a', 'm'}"
            ]
          },
          "metadata": {},
          "execution_count": 41
        }
      ]
    },
    {
      "cell_type": "code",
      "source": [
        "X|Y"
      ],
      "metadata": {
        "colab": {
          "base_uri": "https://localhost:8080/"
        },
        "id": "wvL9dYZ600uL",
        "outputId": "a0d9c1b0-25fe-4fe5-a5aa-3893415ad85c"
      },
      "execution_count": null,
      "outputs": [
        {
          "output_type": "execute_result",
          "data": {
            "text/plain": [
              "{'a', 'h', 'm', 'p', 's', 't', 'w'}"
            ]
          },
          "metadata": {},
          "execution_count": 42
        }
      ]
    },
    {
      "cell_type": "code",
      "source": [
        "X-Y"
      ],
      "metadata": {
        "colab": {
          "base_uri": "https://localhost:8080/"
        },
        "id": "s9A-Bn5r024L",
        "outputId": "fb2f1755-4679-4115-f0a0-83f96cca654a"
      },
      "execution_count": null,
      "outputs": [
        {
          "output_type": "execute_result",
          "data": {
            "text/plain": [
              "{'p', 's'}"
            ]
          },
          "metadata": {},
          "execution_count": 43
        }
      ]
    },
    {
      "cell_type": "markdown",
      "source": [
        "#Decimal"
      ],
      "metadata": {
        "id": "xp4XjU7m1Blb"
      }
    },
    {
      "cell_type": "code",
      "source": [
        "import decimal\n",
        "d=decimal.Decimal('3.141')\n",
        "d+1"
      ],
      "metadata": {
        "colab": {
          "base_uri": "https://localhost:8080/"
        },
        "id": "kAfkI2DM1D4J",
        "outputId": "6808f9a6-d762-479f-d489-a04538b6ad78"
      },
      "execution_count": null,
      "outputs": [
        {
          "output_type": "execute_result",
          "data": {
            "text/plain": [
              "Decimal('4.141')"
            ]
          },
          "metadata": {},
          "execution_count": 61
        }
      ]
    },
    {
      "cell_type": "code",
      "source": [
        "decimal.getcontext().prec = 5\n",
        "decimal.Decimal('1.00') / decimal.Decimal('3.00')"
      ],
      "metadata": {
        "colab": {
          "base_uri": "https://localhost:8080/"
        },
        "id": "r-EQi2m-1LbI",
        "outputId": "26ab9810-fb7e-4974-a971-7bcbac5e2f9b"
      },
      "execution_count": null,
      "outputs": [
        {
          "output_type": "execute_result",
          "data": {
            "text/plain": [
              "Decimal('0.33333')"
            ]
          },
          "metadata": {},
          "execution_count": 64
        }
      ]
    },
    {
      "cell_type": "code",
      "source": [
        " from fractions import Fraction"
      ],
      "metadata": {
        "id": "nwsr-0KZ210h"
      },
      "execution_count": null,
      "outputs": []
    },
    {
      "cell_type": "code",
      "source": [
        "f = Fraction(2, 3)\n",
        "f + 1"
      ],
      "metadata": {
        "colab": {
          "base_uri": "https://localhost:8080/"
        },
        "id": "4sUAAe6q25RO",
        "outputId": "29a379a0-d2d7-4edb-b2ee-355a890c720b"
      },
      "execution_count": null,
      "outputs": [
        {
          "output_type": "execute_result",
          "data": {
            "text/plain": [
              "Fraction(5, 3)"
            ]
          },
          "metadata": {},
          "execution_count": 66
        }
      ]
    },
    {
      "cell_type": "code",
      "source": [],
      "metadata": {
        "id": "DzlU1tuD28Z3"
      },
      "execution_count": null,
      "outputs": []
    },
    {
      "cell_type": "code",
      "source": [
        " f + Fraction(1, 2)"
      ],
      "metadata": {
        "colab": {
          "base_uri": "https://localhost:8080/"
        },
        "id": "U5np-oRy2-rP",
        "outputId": "622faecd-3afc-439a-f4b1-793c4ba4ede3"
      },
      "execution_count": null,
      "outputs": [
        {
          "output_type": "execute_result",
          "data": {
            "text/plain": [
              "Fraction(7, 6)"
            ]
          },
          "metadata": {},
          "execution_count": 58
        }
      ]
    },
    {
      "cell_type": "code",
      "source": [
        "1>2 , 1<2"
      ],
      "metadata": {
        "colab": {
          "base_uri": "https://localhost:8080/"
        },
        "id": "QaopxvmU12eO",
        "outputId": "533d3f8a-429e-4801-991b-1c9a91117182"
      },
      "execution_count": null,
      "outputs": [
        {
          "output_type": "execute_result",
          "data": {
            "text/plain": [
              "(False, True)"
            ]
          },
          "metadata": {},
          "execution_count": 47
        }
      ]
    },
    {
      "cell_type": "code",
      "source": [
        "bool('spam')"
      ],
      "metadata": {
        "colab": {
          "base_uri": "https://localhost:8080/"
        },
        "id": "8pQ9oAfN14-z",
        "outputId": "87555a09-801c-4f49-ccc6-c47de2b6e91a"
      },
      "execution_count": null,
      "outputs": [
        {
          "output_type": "execute_result",
          "data": {
            "text/plain": [
              "True"
            ]
          },
          "metadata": {},
          "execution_count": 48
        }
      ]
    },
    {
      "cell_type": "code",
      "source": [
        "X=None\n",
        "print(X)"
      ],
      "metadata": {
        "colab": {
          "base_uri": "https://localhost:8080/"
        },
        "id": "C8-O03Cf16oE",
        "outputId": "445e4bcd-6810-4913-fbe7-0069c7ea5770"
      },
      "execution_count": null,
      "outputs": [
        {
          "output_type": "stream",
          "name": "stdout",
          "text": [
            "None\n"
          ]
        }
      ]
    },
    {
      "cell_type": "code",
      "source": [
        "L=[None]*100"
      ],
      "metadata": {
        "id": "ckZzuWeq19wL"
      },
      "execution_count": null,
      "outputs": []
    },
    {
      "cell_type": "code",
      "source": [
        "L"
      ],
      "metadata": {
        "colab": {
          "base_uri": "https://localhost:8080/"
        },
        "id": "K1lNSr2i2Aot",
        "outputId": "2c6eec49-7fba-45be-e63f-d3a8d7da710e"
      },
      "execution_count": null,
      "outputs": [
        {
          "output_type": "execute_result",
          "data": {
            "text/plain": [
              "[None,\n",
              " None,\n",
              " None,\n",
              " None,\n",
              " None,\n",
              " None,\n",
              " None,\n",
              " None,\n",
              " None,\n",
              " None,\n",
              " None,\n",
              " None,\n",
              " None,\n",
              " None,\n",
              " None,\n",
              " None,\n",
              " None,\n",
              " None,\n",
              " None,\n",
              " None,\n",
              " None,\n",
              " None,\n",
              " None,\n",
              " None,\n",
              " None,\n",
              " None,\n",
              " None,\n",
              " None,\n",
              " None,\n",
              " None,\n",
              " None,\n",
              " None,\n",
              " None,\n",
              " None,\n",
              " None,\n",
              " None,\n",
              " None,\n",
              " None,\n",
              " None,\n",
              " None,\n",
              " None,\n",
              " None,\n",
              " None,\n",
              " None,\n",
              " None,\n",
              " None,\n",
              " None,\n",
              " None,\n",
              " None,\n",
              " None,\n",
              " None,\n",
              " None,\n",
              " None,\n",
              " None,\n",
              " None,\n",
              " None,\n",
              " None,\n",
              " None,\n",
              " None,\n",
              " None,\n",
              " None,\n",
              " None,\n",
              " None,\n",
              " None,\n",
              " None,\n",
              " None,\n",
              " None,\n",
              " None,\n",
              " None,\n",
              " None,\n",
              " None,\n",
              " None,\n",
              " None,\n",
              " None,\n",
              " None,\n",
              " None,\n",
              " None,\n",
              " None,\n",
              " None,\n",
              " None,\n",
              " None,\n",
              " None,\n",
              " None,\n",
              " None,\n",
              " None,\n",
              " None,\n",
              " None,\n",
              " None,\n",
              " None,\n",
              " None,\n",
              " None,\n",
              " None,\n",
              " None,\n",
              " None,\n",
              " None,\n",
              " None,\n",
              " None,\n",
              " None,\n",
              " None,\n",
              " None]"
            ]
          },
          "metadata": {},
          "execution_count": 51
        }
      ]
    },
    {
      "cell_type": "code",
      "source": [
        "if isinstance(L,list):\n",
        "  print(\"yes\")"
      ],
      "metadata": {
        "colab": {
          "base_uri": "https://localhost:8080/"
        },
        "id": "3PjTk2dY2J4E",
        "outputId": "8f5adfd0-0687-42d1-f2ac-e0438073f389"
      },
      "execution_count": null,
      "outputs": [
        {
          "output_type": "stream",
          "name": "stdout",
          "text": [
            "yes\n"
          ]
        }
      ]
    },
    {
      "cell_type": "code",
      "source": [
        "if type(L) is list:\n",
        "  print(\"yes\")"
      ],
      "metadata": {
        "colab": {
          "base_uri": "https://localhost:8080/"
        },
        "id": "FNmKOO_P3-O0",
        "outputId": "08c12e76-a6be-4b12-c7de-ebdfb84986d0"
      },
      "execution_count": null,
      "outputs": [
        {
          "output_type": "stream",
          "name": "stdout",
          "text": [
            "yes\n"
          ]
        }
      ]
    },
    {
      "cell_type": "code",
      "source": [
        "if type(L)==type([]):\n",
        "  print(\"yes\")"
      ],
      "metadata": {
        "colab": {
          "base_uri": "https://localhost:8080/"
        },
        "id": "XpevRpQy4Bje",
        "outputId": "d2415f22-3a04-4a0a-c5a2-16cf3aba5f59"
      },
      "execution_count": null,
      "outputs": [
        {
          "output_type": "stream",
          "name": "stdout",
          "text": [
            "yes\n"
          ]
        }
      ]
    },
    {
      "cell_type": "markdown",
      "source": [
        "#User definded Class"
      ],
      "metadata": {
        "id": "_6dosv2L4nTE"
      }
    },
    {
      "cell_type": "code",
      "source": [
        "class Worker:\n",
        "  def __init__(self,name,pay):\n",
        "    self.name=name\n",
        "    self.pay=pay\n",
        "  def lastName(self):\n",
        "    return self.name.split()[-1]\n",
        "  def giveRaise(self,percent):\n",
        "    self.pay=int(self.pay*(1+percent))\n",
        "\n",
        "ans=Worker('Bob Smith',50000)\n",
        "print(ans.name,ans.pay)\n",
        "ans.giveRaise(0.1)\n",
        "print(ans.pay)"
      ],
      "metadata": {
        "colab": {
          "base_uri": "https://localhost:8080/"
        },
        "id": "sI5XAOjP4qln",
        "outputId": "5103ed8d-d541-4076-c00b-8027bae14fff"
      },
      "execution_count": null,
      "outputs": [
        {
          "output_type": "stream",
          "name": "stdout",
          "text": [
            "Bob Smith 50000\n",
            "55000\n"
          ]
        }
      ]
    },
    {
      "cell_type": "markdown",
      "source": [
        "#Built-in Numeric Tools\n",
        "\n",
        "Expression Operator\n",
        "+,-,*,/,>>,**,&,etc\n",
        "\n",
        "\n",
        "Built-in mathematical function\n",
        "\n",
        "pow,abs,round,int,hex,bin,etc\n",
        "\n",
        "\n",
        "Utility module\n",
        "\n",
        "random , math etc"
      ],
      "metadata": {
        "id": "h2t1Hnrw93vN"
      }
    },
    {
      "cell_type": "markdown",
      "source": [
        "![Screenshot 2024-07-05 134926.png](data:image/png;base64,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)"
      ],
      "metadata": {
        "id": "0R-LplMr-jT1"
      }
    },
    {
      "cell_type": "markdown",
      "source": [
        "#Mixed data type and there conversion"
      ],
      "metadata": {
        "id": "-6VQlmdn_szX"
      }
    },
    {
      "cell_type": "markdown",
      "source": [
        "Besides mixing operators in expressions, you can also mix numeric types. For instance,\n",
        "you can add an integer to a floating-point number:\n"
      ],
      "metadata": {
        "id": "bHU0Fa3g_1Du"
      }
    },
    {
      "cell_type": "code",
      "source": [
        "40 + 3.14  #Python mixed data types me jo jyada complex datatype\n",
        "# hai uske hisab se result deta hai"
      ],
      "metadata": {
        "colab": {
          "base_uri": "https://localhost:8080/"
        },
        "id": "yjRCxLTq_21V",
        "outputId": "767f3d29-d694-4bb5-9cf0-76a8826a26eb"
      },
      "execution_count": null,
      "outputs": [
        {
          "output_type": "execute_result",
          "data": {
            "text/plain": [
              "43.14"
            ]
          },
          "metadata": {},
          "execution_count": 87
        }
      ]
    },
    {
      "cell_type": "markdown",
      "source": [
        "But this leads to another question: what type is the result—integer or floating-point?\n",
        "The answer is simple, especially if you’ve used almost any other language before: in\n",
        "mixed-type numeric expressions, Python first converts operands up to the type of the\n",
        "most complicated operand,"
      ],
      "metadata": {
        "id": "HW6JqXGn_80F"
      }
    },
    {
      "cell_type": "markdown",
      "source": [
        "#Numeric Display Formats"
      ],
      "metadata": {
        "id": "kqaL4TY6AhCt"
      }
    },
    {
      "cell_type": "code",
      "source": [
        "a = 3\n",
        "b=4\n",
        "b / (2.0 + a) ## Auto echo output: more digits"
      ],
      "metadata": {
        "colab": {
          "base_uri": "https://localhost:8080/"
        },
        "id": "mZzr7I72Ahzk",
        "outputId": "a9983fd7-211f-4054-f5bb-742e1b5e50f9"
      },
      "execution_count": null,
      "outputs": [
        {
          "output_type": "execute_result",
          "data": {
            "text/plain": [
              "0.8"
            ]
          },
          "metadata": {},
          "execution_count": 92
        }
      ]
    },
    {
      "cell_type": "code",
      "source": [
        "print(b / (2.0 + a))  ## print rounds off digits"
      ],
      "metadata": {
        "colab": {
          "base_uri": "https://localhost:8080/"
        },
        "id": "GoYn4M6qAkbB",
        "outputId": "082c68c3-a916-467f-fa10-efe5d190c7a5"
      },
      "execution_count": null,
      "outputs": [
        {
          "output_type": "stream",
          "name": "stdout",
          "text": [
            "0.8\n"
          ]
        }
      ]
    },
    {
      "cell_type": "code",
      "source": [],
      "metadata": {
        "id": "KO87cCBVA1fG"
      },
      "execution_count": null,
      "outputs": []
    }
  ]
}
