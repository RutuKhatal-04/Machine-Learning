{
  "nbformat": 4,
  "nbformat_minor": 0,
  "metadata": {
    "colab": {
      "provenance": []
    },
    "kernelspec": {
      "name": "python3",
      "display_name": "Python 3"
    },
    "language_info": {
      "name": "python"
    }
  },
  "cells": [
    {
      "cell_type": "markdown",
      "source": [
        "#Dynamic Programming"
      ],
      "metadata": {
        "id": "nX2VbNqRmBCA"
      }
    },
    {
      "cell_type": "markdown",
      "source": [
        "Step 1: Recognize the DP\n",
        "\n",
        "Step 2: Identify problem variables\n",
        "\n",
        "Step 3: Express the recurrence relation\n",
        "\n",
        "Step 4:Identify the Base Case\n",
        "\n",
        "Step 5: Decide the iterative or recursive approach to solve problem\n",
        "\n",
        "Step 6: Add Memoization\n"
      ],
      "metadata": {
        "id": "AvWLfJ9TmD7n"
      }
    },
    {
      "cell_type": "markdown",
      "source": [],
      "metadata": {
        "id": "VPnCdC0AqY6i"
      }
    },
    {
      "cell_type": "markdown",
      "source": [
        "Characteristics of DP Problem\n",
        "1) Optimal Substructures\n",
        "2) Overlapping Subproblems\n",
        "\n",
        "\n",
        "\n",
        "\n",
        "\n"
      ],
      "metadata": {
        "id": "6k7MfefbnGLA"
      }
    },
    {
      "cell_type": "markdown",
      "source": [
        "#Question:\n",
        "Problem Statement:\n",
        "Given a bag with capacity W and a list of items along with their weights adn profit associated with them .The task is to fill the bag efficiently such that max profit is achieved"
      ],
      "metadata": {
        "id": "6s-fYBy_q6DJ"
      }
    },
    {
      "cell_type": "code",
      "source": [],
      "metadata": {
        "id": "P6EtkmRwq6uI"
      },
      "execution_count": null,
      "outputs": []
    }
  ]
}
